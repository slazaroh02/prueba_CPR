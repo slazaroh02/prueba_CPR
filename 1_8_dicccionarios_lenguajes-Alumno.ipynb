{
 "cells": [
  {
   "cell_type": "markdown",
   "id": "d10fffa3",
   "metadata": {},
   "source": [
    "Crear un diccionario con los datos de preferencia de su lenguaje de programación favorito entre varios amigos:\n",
    "'juan': 'python', 'sara': 'c','carmen': 'ruby','luis': 'python'. Crear un programa a partir del diccionario que muestre los nombres del diccionario, y devuelva el lenguaje favorito de los amigos que indiquemos ."
   ]
  },
  {
   "cell_type": "markdown",
   "id": "e373a06e",
   "metadata": {},
   "source": []
  },
  {
   "cell_type": "markdown",
   "id": "9d74dace",
   "metadata": {},
   "source": [
    "Para ver el lenguaje que eligió Carmen pedimos el valor así:"
   ]
  },
  {
   "cell_type": "code",
   "execution_count": 1,
   "id": "b9b17a86",
   "metadata": {},
   "outputs": [],
   "source": [
    "#creamos el diccionario\n",
    "lenguajes ={ 'juan':'python',\n",
    "             'carmen':'ruby',\n",
    "             'sara':'c',\n",
    "             'luis':'python',\n",
    "}\n"
   ]
  },
  {
   "cell_type": "code",
   "execution_count": 2,
   "id": "e10a79a5",
   "metadata": {},
   "outputs": [
    {
     "name": "stdout",
     "output_type": "stream",
     "text": [
      "Las claves del diccionario son:\n",
      "juan\n",
      "carmen\n",
      "sara\n",
      "luis\n"
     ]
    }
   ],
   "source": [
    "#mostramos todas las claves del diccionario\n",
    "print(\"Las claves del diccionario son:\")\n",
    "for clave, valor in lenguajes.items():\n",
    "    print(clave)"
   ]
  },
  {
   "cell_type": "code",
   "execution_count": 6,
   "id": "081ba584",
   "metadata": {},
   "outputs": [
    {
     "name": "stdout",
     "output_type": "stream",
     "text": [
      "Introduce el nombre de la persona: pedro\n",
      "No existe un nombre en el diccionario con ese valor.\n"
     ]
    }
   ],
   "source": [
    "#buscamos el valor de una clave\n",
    "nombre = input(\"Introduce el nombre de la persona: \")\n",
    "if nombre in lenguajes:\n",
    "    print(f\"El lenguaje favorito de {nombre} es: {lenguajes[nombre]}\")\n",
    "else:\n",
    "    print(\"No existe un nombre en el diccionario con ese valor.\")"
   ]
  },
  {
   "cell_type": "code",
   "execution_count": null,
   "id": "e0b1c279",
   "metadata": {},
   "outputs": [],
   "source": []
  }
 ],
 "metadata": {
  "kernelspec": {
   "display_name": "Python 3 (ipykernel)",
   "language": "python",
   "name": "python3"
  },
  "language_info": {
   "codemirror_mode": {
    "name": "ipython",
    "version": 3
   },
   "file_extension": ".py",
   "mimetype": "text/x-python",
   "name": "python",
   "nbconvert_exporter": "python",
   "pygments_lexer": "ipython3",
   "version": "3.9.12"
  }
 },
 "nbformat": 4,
 "nbformat_minor": 5
}
